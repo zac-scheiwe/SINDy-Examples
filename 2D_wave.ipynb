{
 "cells": [
  {
   "cell_type": "markdown",
   "metadata": {},
   "source": [
    "# SINDy - 2D PDEs"
   ]
  },
  {
   "cell_type": "code",
   "execution_count": 1,
   "metadata": {},
   "outputs": [],
   "source": [
    "from matplotlib import pyplot as plt, animation\n",
    "import numpy as np\n",
    "import pysindy as ps\n",
    "from math import pi\n",
    "from pde import PDE, CartesianGrid, MemoryStorage, ScalarField\n",
    "from my_functions import *"
   ]
  },
  {
   "cell_type": "code",
   "execution_count": 2,
   "metadata": {},
   "outputs": [],
   "source": [
    "def plot_solution(x, y, u, main_str, t=0):\n",
    "    plt.figure()\n",
    "    plot_u = np.transpose(u, (0, 2, 1))\n",
    "    plt.pcolormesh(x, y, plot_u[t])\n",
    "    plt.xlabel('x', fontsize=16)\n",
    "    plt.ylabel('y', fontsize=16)\n",
    "    plt.title(main_str, fontsize=16)\n",
    "    plt.colorbar()\n",
    "\n",
    "def animate_solution(x, y, u, main_str):\n",
    "    fig, ax = plt.subplots()\n",
    "    ax.set_xlabel(\"x\", fontsize=16); ax.set_ylabel(\"y\", fontsize=16)\n",
    "    ax.set_title(main_str, fontsize=16)\n",
    "\n",
    "    plot_u = np.transpose(u, (0, 2, 1))\n",
    "    cax = ax.pcolormesh(x, y, plot_u[0,:,:])\n",
    "    fig.colorbar(cax)\n",
    "    \n",
    "    def change_frame(i):\n",
    "        cax.set_array(plot_u[i,:,:].flatten())\n",
    "    \n",
    "    anim = animation.FuncAnimation(fig, change_frame, interval=100, frames=len(u[:,0,0]) - 1)\n",
    "    anim.save(main_str + \".gif\")"
   ]
  },
  {
   "cell_type": "code",
   "execution_count": 3,
   "metadata": {},
   "outputs": [],
   "source": [
    "a = 1  # wave speed in x direction\n",
    "b = 2  # wave speed in y direction\n",
    "equation = PDE({\"u\": f\"- {a} * d_dx(u) - {b} * d_dy(u)\"},\n",
    "                # bc={\"value\": \"cos(x)\"}\n",
    "                )\n",
    "\n",
    "x_min = 0\n",
    "x_max = pi*2\n",
    "x_num_elements = 128\n",
    "\n",
    "y_min = -pi\n",
    "y_max = pi\n",
    "y_num_elements = 128\n",
    "\n",
    "grid = CartesianGrid([[x_min, x_max], [y_min, y_max]], [x_num_elements, y_num_elements], periodic=True)\n",
    "state = ScalarField.from_expression(grid, \"sin(x) + cos(y)\")\n",
    "\n",
    "t_max = pi\n",
    "t_num_elements = 64\n",
    "\n",
    "storage = MemoryStorage()\n",
    "result = equation.solve(state, t_range=t_max, tracker=storage.tracker(t_max/t_num_elements))\n",
    "\n",
    "[x, y] = storage.grid.axes_coords\n",
    "t = np.ravel(storage.times)\n",
    "u = np.real(storage.data)"
   ]
  },
  {
   "cell_type": "code",
   "execution_count": 4,
   "metadata": {},
   "outputs": [],
   "source": [
    "%%capture\n",
    "animate_solution(x, y, u, \"u\")\n",
    "\n",
    "labels = [\"t\", \"x\", \"y\"]\n",
    "values = [t, x, y]\n",
    "for i, (l, v) in enumerate(zip(labels, values)):\n",
    "    dv = v[1] - v[0]\n",
    "    for j in range(1, 2):\n",
    "        u_i = ps.FiniteDifference(d=j, axis=i)._differentiate(u, t=dv)\n",
    "        animate_solution(x, y, u_i, \"u_{}\".format(l*j))"
   ]
  },
  {
   "cell_type": "markdown",
   "metadata": {},
   "source": [
    " ![SegmentLocal](u.gif \"segment\")\n",
    " ![SegmentLocal](u_t.gif \"segment\")\n",
    " ![SegmentLocal](u_x.gif \"segment\")\n",
    " ![SegmentLocal](u_y.gif \"segment\")"
   ]
  },
  {
   "cell_type": "code",
   "execution_count": 5,
   "metadata": {},
   "outputs": [
    {
     "name": "stdout",
     "output_type": "stream",
     "text": [
      "Feature library:\n",
      "['1', 'u', 'uu', 'u_y', 'u_x', 'uu_y', 'uuu_y', 'uu_x', 'uuu_x']\n",
      "SR3 model:\n",
      "(u)' = -1.997 u_2 + -1.000 u_1\n"
     ]
    }
   ],
   "source": [
    "u_reshaped = np.expand_dims(np.transpose(u, [1, 2, 0]), axis=3)\n",
    "\n",
    "X, Y = np.meshgrid(x, y, indexing='ij')\n",
    "XY = np.transpose([X, Y], [1, 2, 0])\n",
    "\n",
    "library_functions = [\n",
    "    lambda x: x,\n",
    "    lambda x: x * x,\n",
    "    lambda x, y: x * y,\n",
    "]\n",
    "library_function_names  = [\n",
    "    lambda x: x,\n",
    "    lambda x: x + x,\n",
    "    lambda x, y: x + y,\n",
    "]\n",
    "\n",
    "pde_lib = ps.PDELibrary(library_functions=library_functions,\n",
    "                        function_names=library_function_names,\n",
    "                        derivative_order=1, spatial_grid=XY,\n",
    "                        include_bias=True, is_uniform=True\n",
    "                        )\n",
    "\n",
    "# opt = ps.STLSQ(threshold=1, alpha=1e-5, normalize_columns=True)\n",
    "opt = ps.SR3(threshold=0.1, thresholder=\"l1\", max_iter=1000, normalize_columns=True, tol=1e-1)\n",
    "model = ps.SINDy(feature_library=pde_lib, optimizer=opt, feature_names='u',\n",
    "                #  differentiation_method=ps.SpectralDerivative\n",
    "                 )\n",
    "\n",
    "dt = t[1]-t[0]\n",
    "model.fit(u_reshaped, t=dt)\n",
    "print_result(model, \"u\", \"SR3\")"
   ]
  }
 ],
 "metadata": {
  "kernelspec": {
   "display_name": "Python 3 (ipykernel)",
   "language": "python",
   "name": "python3"
  },
  "language_info": {
   "codemirror_mode": {
    "name": "ipython",
    "version": 3
   },
   "file_extension": ".py",
   "mimetype": "text/x-python",
   "name": "python",
   "nbconvert_exporter": "python",
   "pygments_lexer": "ipython3",
   "version": "3.9.7"
  }
 },
 "nbformat": 4,
 "nbformat_minor": 2
}
