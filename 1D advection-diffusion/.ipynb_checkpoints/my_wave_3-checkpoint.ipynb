{
 "cells": [
  {
   "cell_type": "code",
   "execution_count": 1,
   "metadata": {
    "ExecuteTime": {
     "end_time": "2020-10-22T22:20:41.222450Z",
     "start_time": "2020-10-22T22:20:40.308783Z"
    }
   },
   "outputs": [],
   "source": [
    "import matplotlib.pyplot as plt\n",
    "import numpy as np\n",
    "import pysindy as ps\n",
    "from math import pi\n",
    "from pde import PDE, CartesianGrid, MemoryStorage, ScalarField"
   ]
  },
  {
   "cell_type": "code",
   "execution_count": 2,
   "metadata": {},
   "outputs": [],
   "source": [
    "def plot_solution(x, t, u, main_str):\n",
    "    plt.figure()\n",
    "    plt.pcolormesh(x, t, u)\n",
    "    plt.xlabel('x', fontsize=16)\n",
    "    plt.ylabel('t', fontsize=16)\n",
    "    plt.title(main_str, fontsize=16)\n",
    "    plt.colorbar()"
   ]
  },
  {
   "cell_type": "code",
   "execution_count": null,
   "metadata": {},
   "outputs": [],
   "source": [
    "a = 1  # wave speed\n",
    "b = 1  # diffusivity\n",
    "equation = PDE({\"u\": f\"- {a} * d_dx(u) + {b} * laplace(u)\"},\n",
    "                # bc={\"value\": \"cos(x)\"}\n",
    "                )\n",
    "\n",
    "x_min = -pi\n",
    "x_max = pi\n",
    "x_num_elements = 256\n",
    "\n",
    "grid = CartesianGrid([[x_min, x_max]], [x_num_elements], periodic=True)\n",
    "state = ScalarField.from_expression(grid, \"cos(x)\")\n",
    "\n",
    "t_max = pi  # to preserve scaling\n",
    "t_num_elements = 256\n",
    "\n",
    "storage = MemoryStorage()\n",
    "result = equation.solve(state, t_range=t_max, tracker=storage.tracker(t_max/t_num_elements))\n",
    "\n",
    "x = np.ravel(storage.grid.axes_coords)\n",
    "t = np.ravel(storage.times)\n",
    "u = np.real(storage.data)"
   ]
  },
  {
   "cell_type": "code",
   "execution_count": null,
   "metadata": {},
   "outputs": [],
   "source": [
    "plot_solution(x, t, u, \"u\")"
   ]
  },
  {
   "cell_type": "code",
   "execution_count": null,
   "metadata": {},
   "outputs": [],
   "source": [
    "dt = t[1] - t[0]\n",
    "for i in range(1, 2):\n",
    "    u_i = ps.FiniteDifference(d=i, axis=0)._differentiate(u, t=dt)\n",
    "    plot_solution(x, t, u_i, \"$u_{{{}}}$\".format(\"t\"*i))\n"
   ]
  },
  {
   "cell_type": "code",
   "execution_count": null,
   "metadata": {
    "scrolled": false
   },
   "outputs": [],
   "source": [
    "dx = x[1] - x[0]\n",
    "for i in range(1, 3):\n",
    "    u_i = ps.FiniteDifference(d=i, axis=1)._differentiate(u, t=dx)\n",
    "    plot_solution(x, t, u_i, \"$u_{{{}}}$\".format(\"x\"*i))"
   ]
  },
  {
   "cell_type": "code",
   "execution_count": null,
   "metadata": {
    "scrolled": true
   },
   "outputs": [],
   "source": [
    "u = u.reshape(len(x), len(t), 1)\n",
    "\n",
    "library_functions = [lambda x: x, lambda x: x * x]\n",
    "library_function_names = [lambda x: x, lambda x: x + x]\n",
    "pde_lib = ps.PDELibrary(library_functions=library_functions, \n",
    "                        function_names=library_function_names, \n",
    "                        derivative_order=2, spatial_grid=x, \n",
    "                        include_bias=True, is_uniform=True\n",
    "                        )\n",
    "\n",
    "print('STLSQ model: ')\n",
    "optimizer = ps.STLSQ(threshold=5, alpha=1e-5, normalize_columns=True)\n",
    "model = ps.SINDy(feature_library=pde_lib, optimizer=optimizer,\n",
    "                #  differentiation_method=ps.SpectralDerivative\n",
    "                 )\n",
    "model.fit(u, t=dt)\n",
    "model.print()"
   ]
  },
  {
   "cell_type": "code",
   "execution_count": null,
   "metadata": {},
   "outputs": [],
   "source": [
    "pde_lib.get_feature_names()"
   ]
  },
  {
   "cell_type": "code",
   "execution_count": null,
   "metadata": {},
   "outputs": [],
   "source": [
    "u_reduced = np.real(storage.data)[2:-2, :]\n",
    "\n",
    "plot_solution(x, t[2:-2], u_reduced, \"u\")"
   ]
  },
  {
   "cell_type": "code",
   "execution_count": null,
   "metadata": {},
   "outputs": [],
   "source": [
    "u_r = u_reduced.reshape(len(x), len(t)-4, 1)\n",
    "model2 = ps.SINDy(feature_library=pde_lib, optimizer=optimizer)\n",
    "model2.fit(u_r, t=dt)\n",
    "model2.print()"
   ]
  },
  {
   "cell_type": "code",
   "execution_count": null,
   "metadata": {},
   "outputs": [],
   "source": []
  },
  {
   "cell_type": "code",
   "execution_count": null,
   "metadata": {},
   "outputs": [],
   "source": []
  },
  {
   "cell_type": "code",
   "execution_count": null,
   "metadata": {},
   "outputs": [],
   "source": []
  }
 ],
 "metadata": {
  "kernelspec": {
   "display_name": "Python 3 (ipykernel)",
   "language": "python",
   "name": "python3"
  },
  "language_info": {
   "codemirror_mode": {
    "name": "ipython",
    "version": 3
   },
   "file_extension": ".py",
   "mimetype": "text/x-python",
   "name": "python",
   "nbconvert_exporter": "python",
   "pygments_lexer": "ipython3",
   "version": "3.9.7"
  },
  "toc": {
   "base_numbering": 1,
   "nav_menu": {},
   "number_sections": true,
   "sideBar": true,
   "skip_h1_title": false,
   "title_cell": "Table of Contents",
   "title_sidebar": "Contents",
   "toc_cell": false,
   "toc_position": {
    "height": "calc(100% - 180px)",
    "left": "10px",
    "top": "150px",
    "width": "296.475px"
   },
   "toc_section_display": true,
   "toc_window_display": true
  },
  "varInspector": {
   "cols": {
    "lenName": 16,
    "lenType": 16,
    "lenVar": 40
   },
   "kernels_config": {
    "python": {
     "delete_cmd_postfix": "",
     "delete_cmd_prefix": "del ",
     "library": "var_list.py",
     "varRefreshCmd": "print(var_dic_list())"
    },
    "r": {
     "delete_cmd_postfix": ") ",
     "delete_cmd_prefix": "rm(",
     "library": "var_list.r",
     "varRefreshCmd": "cat(var_dic_list()) "
    }
   },
   "types_to_exclude": [
    "module",
    "function",
    "builtin_function_or_method",
    "instance",
    "_Feature"
   ],
   "window_display": false
  }
 },
 "nbformat": 4,
 "nbformat_minor": 2
}
