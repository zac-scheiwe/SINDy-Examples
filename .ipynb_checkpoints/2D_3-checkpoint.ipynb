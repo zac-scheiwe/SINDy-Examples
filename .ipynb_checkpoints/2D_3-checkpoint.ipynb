{
 "cells": [
  {
   "cell_type": "code",
   "execution_count": 1,
   "metadata": {},
   "outputs": [],
   "source": [
    "from matplotlib import pyplot as plt, animation\n",
    "import numpy as np\n",
    "import pysindy as ps\n",
    "from math import pi\n",
    "from pde import PDE, CartesianGrid, MemoryStorage, ScalarField"
   ]
  },
  {
   "cell_type": "code",
   "execution_count": 2,
   "metadata": {},
   "outputs": [],
   "source": [
    "def plot_solution(x, y, u, main_str, t=0):\n",
    "    plt.figure()\n",
    "    plot_u = np.transpose(u, (0, 2, 1))\n",
    "    plt.pcolormesh(x, y, plot_u[t], vmin=-1, vmax=1)\n",
    "    plt.xlabel('x', fontsize=16)\n",
    "    plt.ylabel('y', fontsize=16)\n",
    "    plt.title(main_str, fontsize=16)\n",
    "    plt.colorbar()\n",
    "\n",
    "def animate_solution(x, y, u, main_str):\n",
    "    fig, ax = plt.subplots()\n",
    "    ax.set_xlabel(\"x\", fontsize=16); ax.set_ylabel(\"y\", fontsize=16)\n",
    "    ax.set_title(main_str, fontsize=16)\n",
    "\n",
    "    plot_u = np.transpose(u, (0, 2, 1))\n",
    "    cax = ax.pcolormesh(x, y, plot_u[0,:,:], vmin=-1, vmax=1)\n",
    "    fig.colorbar(cax)\n",
    "    \n",
    "    def change_frame(i):\n",
    "        cax.set_array(plot_u[i,:,:].flatten())\n",
    "    \n",
    "    anim = animation.FuncAnimation(fig, change_frame, interval=100, frames=len(u[:,0,0]) - 1)\n",
    "    anim.save(main_str + \".gif\")"
   ]
  },
  {
   "cell_type": "code",
   "execution_count": 3,
   "metadata": {},
   "outputs": [],
   "source": [
    "a = 1  # wave speed in x direction  --- do these actually work?\n",
    "b = 1  # wave speed in y direction\n",
    "equation = PDE({\"u\": f\"- {a} * d_dx(u) - {b} * d_dy(u)\"},\n",
    "                # bc={\"value\": \"cos(x)\"}\n",
    "                )\n",
    "\n",
    "x_min = 0\n",
    "x_max = pi*2\n",
    "x_num_elements = 128\n",
    "\n",
    "y_min = -pi\n",
    "y_max = pi\n",
    "y_num_elements = 128\n",
    "\n",
    "grid = CartesianGrid([[x_min, x_max], [y_min, y_max]], [x_num_elements, y_num_elements], periodic=True)\n",
    "state = ScalarField.from_expression(grid, \"cos(x+2*y)\")\n",
    "\n",
    "t_max = pi\n",
    "t_num_elements = 64\n",
    "\n",
    "storage = MemoryStorage()\n",
    "result = equation.solve(state, t_range=t_max, tracker=storage.tracker(t_max/t_num_elements))\n",
    "\n",
    "[x, y] = storage.grid.axes_coords\n",
    "t = np.ravel(storage.times)\n",
    "u = np.real(storage.data)"
   ]
  },
  {
   "cell_type": "code",
   "execution_count": 26,
   "metadata": {},
   "outputs": [
    {
     "ename": "ValueError",
     "evalue": "axes don't match array",
     "output_type": "error",
     "traceback": [
      "\u001b[1;31m---------------------------------------------------------------------------\u001b[0m",
      "\u001b[1;31mValueError\u001b[0m                                Traceback (most recent call last)",
      "\u001b[1;32mc:\\Users\\zacha\\OneDrive\\Documents\\Maths 776\\PySINDy\\2D_3.ipynb Cell 4'\u001b[0m in \u001b[0;36m<cell line: 1>\u001b[1;34m()\u001b[0m\n\u001b[1;32m----> <a href='vscode-notebook-cell:/c%3A/Users/zacha/OneDrive/Documents/Maths%20776/PySINDy/2D_3.ipynb#ch0000004?line=0'>1</a>\u001b[0m animate_solution(x, y, u, \u001b[39m\"\u001b[39;49m\u001b[39mu\u001b[39;49m\u001b[39m\"\u001b[39;49m)\n\u001b[0;32m      <a href='vscode-notebook-cell:/c%3A/Users/zacha/OneDrive/Documents/Maths%20776/PySINDy/2D_3.ipynb#ch0000004?line=2'>3</a>\u001b[0m labels \u001b[39m=\u001b[39m [\u001b[39m\"\u001b[39m\u001b[39mt\u001b[39m\u001b[39m\"\u001b[39m, \u001b[39m\"\u001b[39m\u001b[39mx\u001b[39m\u001b[39m\"\u001b[39m, \u001b[39m\"\u001b[39m\u001b[39my\u001b[39m\u001b[39m\"\u001b[39m]\n\u001b[0;32m      <a href='vscode-notebook-cell:/c%3A/Users/zacha/OneDrive/Documents/Maths%20776/PySINDy/2D_3.ipynb#ch0000004?line=3'>4</a>\u001b[0m values \u001b[39m=\u001b[39m [t, x, y]\n",
      "\u001b[1;32mc:\\Users\\zacha\\OneDrive\\Documents\\Maths 776\\PySINDy\\2D_3.ipynb Cell 2'\u001b[0m in \u001b[0;36manimate_solution\u001b[1;34m(x, y, u, main_str)\u001b[0m\n\u001b[0;32m     <a href='vscode-notebook-cell:/c%3A/Users/zacha/OneDrive/Documents/Maths%20776/PySINDy/2D_3.ipynb#ch0000001?line=11'>12</a>\u001b[0m ax\u001b[39m.\u001b[39mset_xlabel(\u001b[39m\"\u001b[39m\u001b[39mx\u001b[39m\u001b[39m\"\u001b[39m, fontsize\u001b[39m=\u001b[39m\u001b[39m16\u001b[39m); ax\u001b[39m.\u001b[39mset_ylabel(\u001b[39m\"\u001b[39m\u001b[39my\u001b[39m\u001b[39m\"\u001b[39m, fontsize\u001b[39m=\u001b[39m\u001b[39m16\u001b[39m)\n\u001b[0;32m     <a href='vscode-notebook-cell:/c%3A/Users/zacha/OneDrive/Documents/Maths%20776/PySINDy/2D_3.ipynb#ch0000001?line=12'>13</a>\u001b[0m ax\u001b[39m.\u001b[39mset_title(main_str, fontsize\u001b[39m=\u001b[39m\u001b[39m16\u001b[39m)\n\u001b[1;32m---> <a href='vscode-notebook-cell:/c%3A/Users/zacha/OneDrive/Documents/Maths%20776/PySINDy/2D_3.ipynb#ch0000001?line=14'>15</a>\u001b[0m plot_u \u001b[39m=\u001b[39m np\u001b[39m.\u001b[39;49mtranspose(u, (\u001b[39m0\u001b[39;49m, \u001b[39m2\u001b[39;49m, \u001b[39m1\u001b[39;49m))\n\u001b[0;32m     <a href='vscode-notebook-cell:/c%3A/Users/zacha/OneDrive/Documents/Maths%20776/PySINDy/2D_3.ipynb#ch0000001?line=15'>16</a>\u001b[0m cax \u001b[39m=\u001b[39m ax\u001b[39m.\u001b[39mpcolormesh(x, y, plot_u[\u001b[39m0\u001b[39m,:,:], vmin\u001b[39m=\u001b[39m\u001b[39m-\u001b[39m\u001b[39m1\u001b[39m, vmax\u001b[39m=\u001b[39m\u001b[39m1\u001b[39m)\n\u001b[0;32m     <a href='vscode-notebook-cell:/c%3A/Users/zacha/OneDrive/Documents/Maths%20776/PySINDy/2D_3.ipynb#ch0000001?line=16'>17</a>\u001b[0m fig\u001b[39m.\u001b[39mcolorbar(cax)\n",
      "File \u001b[1;32m<__array_function__ internals>:5\u001b[0m, in \u001b[0;36mtranspose\u001b[1;34m(*args, **kwargs)\u001b[0m\n",
      "File \u001b[1;32m~\\anaconda3\\envs\\sindy\\lib\\site-packages\\numpy\\core\\fromnumeric.py:658\u001b[0m, in \u001b[0;36mtranspose\u001b[1;34m(a, axes)\u001b[0m\n\u001b[0;32m    <a href='file:///c%3A/Users/zacha/anaconda3/envs/sindy/lib/site-packages/numpy/core/fromnumeric.py?line=601'>602</a>\u001b[0m \u001b[39m@array_function_dispatch\u001b[39m(_transpose_dispatcher)\n\u001b[0;32m    <a href='file:///c%3A/Users/zacha/anaconda3/envs/sindy/lib/site-packages/numpy/core/fromnumeric.py?line=602'>603</a>\u001b[0m \u001b[39mdef\u001b[39;00m \u001b[39mtranspose\u001b[39m(a, axes\u001b[39m=\u001b[39m\u001b[39mNone\u001b[39;00m):\n\u001b[0;32m    <a href='file:///c%3A/Users/zacha/anaconda3/envs/sindy/lib/site-packages/numpy/core/fromnumeric.py?line=603'>604</a>\u001b[0m     \u001b[39m\"\"\"\u001b[39;00m\n\u001b[0;32m    <a href='file:///c%3A/Users/zacha/anaconda3/envs/sindy/lib/site-packages/numpy/core/fromnumeric.py?line=604'>605</a>\u001b[0m \u001b[39m    Reverse or permute the axes of an array; returns the modified array.\u001b[39;00m\n\u001b[0;32m    <a href='file:///c%3A/Users/zacha/anaconda3/envs/sindy/lib/site-packages/numpy/core/fromnumeric.py?line=605'>606</a>\u001b[0m \n\u001b[1;32m   (...)\u001b[0m\n\u001b[0;32m    <a href='file:///c%3A/Users/zacha/anaconda3/envs/sindy/lib/site-packages/numpy/core/fromnumeric.py?line=655'>656</a>\u001b[0m \n\u001b[0;32m    <a href='file:///c%3A/Users/zacha/anaconda3/envs/sindy/lib/site-packages/numpy/core/fromnumeric.py?line=656'>657</a>\u001b[0m \u001b[39m    \"\"\"\u001b[39;00m\n\u001b[1;32m--> <a href='file:///c%3A/Users/zacha/anaconda3/envs/sindy/lib/site-packages/numpy/core/fromnumeric.py?line=657'>658</a>\u001b[0m     \u001b[39mreturn\u001b[39;00m _wrapfunc(a, \u001b[39m'\u001b[39;49m\u001b[39mtranspose\u001b[39;49m\u001b[39m'\u001b[39;49m, axes)\n",
      "File \u001b[1;32m~\\anaconda3\\envs\\sindy\\lib\\site-packages\\numpy\\core\\fromnumeric.py:58\u001b[0m, in \u001b[0;36m_wrapfunc\u001b[1;34m(obj, method, *args, **kwds)\u001b[0m\n\u001b[0;32m     <a href='file:///c%3A/Users/zacha/anaconda3/envs/sindy/lib/site-packages/numpy/core/fromnumeric.py?line=54'>55</a>\u001b[0m     \u001b[39mreturn\u001b[39;00m _wrapit(obj, method, \u001b[39m*\u001b[39margs, \u001b[39m*\u001b[39m\u001b[39m*\u001b[39mkwds)\n\u001b[0;32m     <a href='file:///c%3A/Users/zacha/anaconda3/envs/sindy/lib/site-packages/numpy/core/fromnumeric.py?line=56'>57</a>\u001b[0m \u001b[39mtry\u001b[39;00m:\n\u001b[1;32m---> <a href='file:///c%3A/Users/zacha/anaconda3/envs/sindy/lib/site-packages/numpy/core/fromnumeric.py?line=57'>58</a>\u001b[0m     \u001b[39mreturn\u001b[39;00m bound(\u001b[39m*\u001b[39margs, \u001b[39m*\u001b[39m\u001b[39m*\u001b[39mkwds)\n\u001b[0;32m     <a href='file:///c%3A/Users/zacha/anaconda3/envs/sindy/lib/site-packages/numpy/core/fromnumeric.py?line=58'>59</a>\u001b[0m \u001b[39mexcept\u001b[39;00m \u001b[39mTypeError\u001b[39;00m:\n\u001b[0;32m     <a href='file:///c%3A/Users/zacha/anaconda3/envs/sindy/lib/site-packages/numpy/core/fromnumeric.py?line=59'>60</a>\u001b[0m     \u001b[39m# A TypeError occurs if the object does have such a method in its\u001b[39;00m\n\u001b[0;32m     <a href='file:///c%3A/Users/zacha/anaconda3/envs/sindy/lib/site-packages/numpy/core/fromnumeric.py?line=60'>61</a>\u001b[0m     \u001b[39m# class, but its signature is not identical to that of NumPy's. This\u001b[39;00m\n\u001b[1;32m   (...)\u001b[0m\n\u001b[0;32m     <a href='file:///c%3A/Users/zacha/anaconda3/envs/sindy/lib/site-packages/numpy/core/fromnumeric.py?line=64'>65</a>\u001b[0m     \u001b[39m# Call _wrapit from within the except clause to ensure a potential\u001b[39;00m\n\u001b[0;32m     <a href='file:///c%3A/Users/zacha/anaconda3/envs/sindy/lib/site-packages/numpy/core/fromnumeric.py?line=65'>66</a>\u001b[0m     \u001b[39m# exception has a traceback chain.\u001b[39;00m\n\u001b[0;32m     <a href='file:///c%3A/Users/zacha/anaconda3/envs/sindy/lib/site-packages/numpy/core/fromnumeric.py?line=66'>67</a>\u001b[0m     \u001b[39mreturn\u001b[39;00m _wrapit(obj, method, \u001b[39m*\u001b[39margs, \u001b[39m*\u001b[39m\u001b[39m*\u001b[39mkwds)\n",
      "\u001b[1;31mValueError\u001b[0m: axes don't match array"
     ]
    },
    {
     "data": {
      "image/png": "[encoded data removed]",
      "text/plain": [
       "<Figure size 432x288 with 1 Axes>"
      ]
     },
     "metadata": {
      "needs_background": "light"
     },
     "output_type": "display_data"
    }
   ],
   "source": [
    "animate_solution(x, y, u, \"u\")\n",
    "\n",
    "labels = [\"t\", \"x\", \"y\"]\n",
    "values = [t, x, y]\n",
    "for i, val in enumerate(values):\n",
    "    dv = val[1] - val[0]\n",
    "    for j in range(1, 2):\n",
    "        u_i = ps.FiniteDifference(d=j, axis=i)._differentiate(u, t=dv)\n",
    "        animate_solution(x, y, u_i, \"u_{}\".format(labels[i]*j))"
   ]
  },
  {
   "cell_type": "markdown",
   "metadata": {},
   "source": [
    "![SegmentLocal](u.gif \"segment\")\n",
    "![SegmentLocal](u_t.gif \"segment\")\n",
    "![SegmentLocal](u_x.gif \"segment\")\n",
    "![SegmentLocal](u_y.gif \"segment\")"
   ]
  },
  {
   "cell_type": "code",
   "execution_count": 25,
   "metadata": {
    "scrolled": true
   },
   "outputs": [
    {
     "ename": "TypeError",
     "evalue": "object of type 'PolynomialLibrary' has no len()",
     "output_type": "error",
     "traceback": [
      "\u001b[1;31m---------------------------------------------------------------------------\u001b[0m",
      "\u001b[1;31mTypeError\u001b[0m                                 Traceback (most recent call last)",
      "\u001b[1;32mc:\\Users\\zacha\\OneDrive\\Documents\\Maths 776\\PySINDy\\2D_3.ipynb Cell 6'\u001b[0m in \u001b[0;36m<cell line: 5>\u001b[1;34m()\u001b[0m\n\u001b[0;32m      <a href='vscode-notebook-cell:/c%3A/Users/zacha/OneDrive/Documents/Maths%20776/PySINDy/2D_3.ipynb#ch0000009?line=2'>3</a>\u001b[0m library_functions \u001b[39m=\u001b[39m [\u001b[39mlambda\u001b[39;00m x: x, \u001b[39mlambda\u001b[39;00m x: x \u001b[39m*\u001b[39m x]\n\u001b[0;32m      <a href='vscode-notebook-cell:/c%3A/Users/zacha/OneDrive/Documents/Maths%20776/PySINDy/2D_3.ipynb#ch0000009?line=3'>4</a>\u001b[0m library_function_names \u001b[39m=\u001b[39m [\u001b[39mlambda\u001b[39;00m x: x, \u001b[39mlambda\u001b[39;00m x: x \u001b[39m+\u001b[39m x]\n\u001b[1;32m----> <a href='vscode-notebook-cell:/c%3A/Users/zacha/OneDrive/Documents/Maths%20776/PySINDy/2D_3.ipynb#ch0000009?line=4'>5</a>\u001b[0m pde_lib \u001b[39m=\u001b[39m ps\u001b[39m.\u001b[39;49mPDELibrary(library_functions\u001b[39m=\u001b[39;49mps\u001b[39m.\u001b[39;49mPolynomialLibrary(degree\u001b[39m=\u001b[39;49m\u001b[39m3\u001b[39;49m), \n\u001b[0;32m      <a href='vscode-notebook-cell:/c%3A/Users/zacha/OneDrive/Documents/Maths%20776/PySINDy/2D_3.ipynb#ch0000009?line=5'>6</a>\u001b[0m                         function_names\u001b[39m=\u001b[39;49m[\u001b[39m\"\u001b[39;49m\u001b[39mx\u001b[39;49m\u001b[39m\"\u001b[39;49m,\u001b[39m\"\u001b[39;49m\u001b[39my\u001b[39;49m\u001b[39m\"\u001b[39;49m], \n\u001b[0;32m      <a href='vscode-notebook-cell:/c%3A/Users/zacha/OneDrive/Documents/Maths%20776/PySINDy/2D_3.ipynb#ch0000009?line=6'>7</a>\u001b[0m                         derivative_order\u001b[39m=\u001b[39;49m\u001b[39m2\u001b[39;49m, spatial_grid\u001b[39m=\u001b[39;49mx, \n\u001b[0;32m      <a href='vscode-notebook-cell:/c%3A/Users/zacha/OneDrive/Documents/Maths%20776/PySINDy/2D_3.ipynb#ch0000009?line=7'>8</a>\u001b[0m                         include_bias\u001b[39m=\u001b[39;49m\u001b[39mTrue\u001b[39;49;00m, is_uniform\u001b[39m=\u001b[39;49m\u001b[39mTrue\u001b[39;49;00m\n\u001b[0;32m      <a href='vscode-notebook-cell:/c%3A/Users/zacha/OneDrive/Documents/Maths%20776/PySINDy/2D_3.ipynb#ch0000009?line=8'>9</a>\u001b[0m                         )\n\u001b[0;32m     <a href='vscode-notebook-cell:/c%3A/Users/zacha/OneDrive/Documents/Maths%20776/PySINDy/2D_3.ipynb#ch0000009?line=10'>11</a>\u001b[0m \u001b[39mprint\u001b[39m(\u001b[39m'\u001b[39m\u001b[39mSTLSQ model: \u001b[39m\u001b[39m'\u001b[39m)\n\u001b[0;32m     <a href='vscode-notebook-cell:/c%3A/Users/zacha/OneDrive/Documents/Maths%20776/PySINDy/2D_3.ipynb#ch0000009?line=11'>12</a>\u001b[0m optimizer \u001b[39m=\u001b[39m ps\u001b[39m.\u001b[39mSTLSQ(threshold\u001b[39m=\u001b[39m\u001b[39m100\u001b[39m, alpha\u001b[39m=\u001b[39m\u001b[39m1e-5\u001b[39m, normalize_columns\u001b[39m=\u001b[39m\u001b[39mTrue\u001b[39;00m)\n",
      "File \u001b[1;32m~\\anaconda3\\envs\\sindy\\lib\\site-packages\\pysindy\\feature_library\\pde_library.py:124\u001b[0m, in \u001b[0;36mPDELibrary.__init__\u001b[1;34m(self, library_functions, derivative_order, spatial_grid, interaction_only, function_names, include_bias, include_interaction, is_uniform, library_ensemble, ensemble_indices, periodic)\u001b[0m\n\u001b[0;32m    <a href='file:///c%3A/Users/zacha/anaconda3/envs/sindy/lib/site-packages/pysindy/feature_library/pde_library.py?line=120'>121</a>\u001b[0m \u001b[39mself\u001b[39m\u001b[39m.\u001b[39mperiodic \u001b[39m=\u001b[39m periodic\n\u001b[0;32m    <a href='file:///c%3A/Users/zacha/anaconda3/envs/sindy/lib/site-packages/pysindy/feature_library/pde_library.py?line=121'>122</a>\u001b[0m \u001b[39mself\u001b[39m\u001b[39m.\u001b[39mnum_trajectories \u001b[39m=\u001b[39m \u001b[39m1\u001b[39m\n\u001b[1;32m--> <a href='file:///c%3A/Users/zacha/anaconda3/envs/sindy/lib/site-packages/pysindy/feature_library/pde_library.py?line=123'>124</a>\u001b[0m \u001b[39mif\u001b[39;00m function_names \u001b[39mand\u001b[39;00m (\u001b[39mlen\u001b[39;49m(library_functions) \u001b[39m!=\u001b[39m \u001b[39mlen\u001b[39m(function_names)):\n\u001b[0;32m    <a href='file:///c%3A/Users/zacha/anaconda3/envs/sindy/lib/site-packages/pysindy/feature_library/pde_library.py?line=124'>125</a>\u001b[0m     \u001b[39mraise\u001b[39;00m \u001b[39mValueError\u001b[39;00m(\n\u001b[0;32m    <a href='file:///c%3A/Users/zacha/anaconda3/envs/sindy/lib/site-packages/pysindy/feature_library/pde_library.py?line=125'>126</a>\u001b[0m         \u001b[39m\"\u001b[39m\u001b[39mlibrary_functions and function_names must have the same\u001b[39m\u001b[39m\"\u001b[39m\n\u001b[0;32m    <a href='file:///c%3A/Users/zacha/anaconda3/envs/sindy/lib/site-packages/pysindy/feature_library/pde_library.py?line=126'>127</a>\u001b[0m         \u001b[39m\"\u001b[39m\u001b[39m number of elements\u001b[39m\u001b[39m\"\u001b[39m\n\u001b[0;32m    <a href='file:///c%3A/Users/zacha/anaconda3/envs/sindy/lib/site-packages/pysindy/feature_library/pde_library.py?line=127'>128</a>\u001b[0m     )\n\u001b[0;32m    <a href='file:///c%3A/Users/zacha/anaconda3/envs/sindy/lib/site-packages/pysindy/feature_library/pde_library.py?line=128'>129</a>\u001b[0m \u001b[39mif\u001b[39;00m derivative_order \u001b[39m<\u001b[39m \u001b[39m0\u001b[39m:\n",
      "\u001b[1;31mTypeError\u001b[0m: object of type 'PolynomialLibrary' has no len()"
     ]
    }
   ],
   "source": [
    "u = u.reshape(len(x), len(y), len(t), 1)\n",
    "\n",
    "library_functions = [lambda x: x, lambda x: x * x]\n",
    "library_function_names = [lambda x: x, lambda x: x + x]\n",
    "pde_lib = ps.PDELibrary(library_functions=ps.PolynomialLibrary(degree=3), \n",
    "                        function_names=[\"x\",\"y\"], \n",
    "                        derivative_order=2, spatial_grid=x, \n",
    "                        include_bias=True, is_uniform=True\n",
    "                        )\n",
    "\n",
    "print('STLSQ model: ')\n",
    "optimizer = ps.STLSQ(threshold=100, alpha=1e-5, normalize_columns=True)\n",
    "model = ps.SINDy(feature_library=pde_lib, optimizer=optimizer,\n",
    "                #  differentiation_method=ps.SpectralDerivative\n",
    "                 )\n",
    "model.fit(u, t=dt)\n",
    "model.print()"
   ]
  },
  {
   "cell_type": "code",
   "execution_count": null,
   "metadata": {},
   "outputs": [
    {
     "ename": "NotFittedError",
     "evalue": "This PolynomialLibrary instance is not fitted yet. Call 'fit' with appropriate arguments before using this estimator.",
     "output_type": "error",
     "traceback": [
      "\u001b[1;31m---------------------------------------------------------------------------\u001b[0m",
      "\u001b[1;31mNotFittedError\u001b[0m                            Traceback (most recent call last)",
      "\u001b[1;32mc:\\Users\\zacha\\OneDrive\\Documents\\Maths 776\\PySINDy\\2D_3.ipynb Cell 11'\u001b[0m in \u001b[0;36m<cell line: 3>\u001b[1;34m()\u001b[0m\n\u001b[0;32m      <a href='vscode-notebook-cell:/c%3A/Users/zacha/OneDrive/Documents/Maths%20776/PySINDy/2D_3.ipynb#ch0000010?line=0'>1</a>\u001b[0m \u001b[39m# pde_lib.get_feature_names()\u001b[39;00m\n\u001b[0;32m      <a href='vscode-notebook-cell:/c%3A/Users/zacha/OneDrive/Documents/Maths%20776/PySINDy/2D_3.ipynb#ch0000010?line=1'>2</a>\u001b[0m x \u001b[39m=\u001b[39mps\u001b[39m.\u001b[39mPolynomialLibrary(degree\u001b[39m=\u001b[39m\u001b[39m3\u001b[39m)\n\u001b[1;32m----> <a href='vscode-notebook-cell:/c%3A/Users/zacha/OneDrive/Documents/Maths%20776/PySINDy/2D_3.ipynb#ch0000010?line=2'>3</a>\u001b[0m x\u001b[39m.\u001b[39;49mget_feature_names()\n",
      "File \u001b[1;32m~\\anaconda3\\envs\\sindy\\lib\\site-packages\\pysindy\\feature_library\\polynomial_library.py:151\u001b[0m, in \u001b[0;36mPolynomialLibrary.get_feature_names\u001b[1;34m(self, input_features)\u001b[0m\n\u001b[0;32m    <a href='file:///c%3A/Users/zacha/anaconda3/envs/sindy/lib/site-packages/pysindy/feature_library/polynomial_library.py?line=137'>138</a>\u001b[0m \u001b[39mdef\u001b[39;00m \u001b[39mget_feature_names\u001b[39m(\u001b[39mself\u001b[39m, input_features\u001b[39m=\u001b[39m\u001b[39mNone\u001b[39;00m):\n\u001b[0;32m    <a href='file:///c%3A/Users/zacha/anaconda3/envs/sindy/lib/site-packages/pysindy/feature_library/polynomial_library.py?line=138'>139</a>\u001b[0m     \u001b[39m\"\"\"Return feature names for output features.\u001b[39;00m\n\u001b[0;32m    <a href='file:///c%3A/Users/zacha/anaconda3/envs/sindy/lib/site-packages/pysindy/feature_library/polynomial_library.py?line=139'>140</a>\u001b[0m \n\u001b[0;32m    <a href='file:///c%3A/Users/zacha/anaconda3/envs/sindy/lib/site-packages/pysindy/feature_library/polynomial_library.py?line=140'>141</a>\u001b[0m \u001b[39m    Parameters\u001b[39;00m\n\u001b[1;32m   (...)\u001b[0m\n\u001b[0;32m    <a href='file:///c%3A/Users/zacha/anaconda3/envs/sindy/lib/site-packages/pysindy/feature_library/polynomial_library.py?line=148'>149</a>\u001b[0m \u001b[39m    output_feature_names : list of string, length n_output_features\u001b[39;00m\n\u001b[0;32m    <a href='file:///c%3A/Users/zacha/anaconda3/envs/sindy/lib/site-packages/pysindy/feature_library/polynomial_library.py?line=149'>150</a>\u001b[0m \u001b[39m    \"\"\"\u001b[39;00m\n\u001b[1;32m--> <a href='file:///c%3A/Users/zacha/anaconda3/envs/sindy/lib/site-packages/pysindy/feature_library/polynomial_library.py?line=150'>151</a>\u001b[0m     powers \u001b[39m=\u001b[39m \u001b[39mself\u001b[39;49m\u001b[39m.\u001b[39;49mpowers_\n\u001b[0;32m    <a href='file:///c%3A/Users/zacha/anaconda3/envs/sindy/lib/site-packages/pysindy/feature_library/polynomial_library.py?line=151'>152</a>\u001b[0m     \u001b[39mif\u001b[39;00m input_features \u001b[39mis\u001b[39;00m \u001b[39mNone\u001b[39;00m:\n\u001b[0;32m    <a href='file:///c%3A/Users/zacha/anaconda3/envs/sindy/lib/site-packages/pysindy/feature_library/polynomial_library.py?line=152'>153</a>\u001b[0m         input_features \u001b[39m=\u001b[39m [\u001b[39m\"\u001b[39m\u001b[39mx\u001b[39m\u001b[39m%d\u001b[39;00m\u001b[39m\"\u001b[39m \u001b[39m%\u001b[39m i \u001b[39mfor\u001b[39;00m i \u001b[39min\u001b[39;00m \u001b[39mrange\u001b[39m(powers\u001b[39m.\u001b[39mshape[\u001b[39m1\u001b[39m])]\n",
      "File \u001b[1;32m~\\anaconda3\\envs\\sindy\\lib\\site-packages\\pysindy\\feature_library\\polynomial_library.py:124\u001b[0m, in \u001b[0;36mPolynomialLibrary.powers_\u001b[1;34m(self)\u001b[0m\n\u001b[0;32m    <a href='file:///c%3A/Users/zacha/anaconda3/envs/sindy/lib/site-packages/pysindy/feature_library/polynomial_library.py?line=121'>122</a>\u001b[0m \u001b[39m@property\u001b[39m\n\u001b[0;32m    <a href='file:///c%3A/Users/zacha/anaconda3/envs/sindy/lib/site-packages/pysindy/feature_library/polynomial_library.py?line=122'>123</a>\u001b[0m \u001b[39mdef\u001b[39;00m \u001b[39mpowers_\u001b[39m(\u001b[39mself\u001b[39m):\n\u001b[1;32m--> <a href='file:///c%3A/Users/zacha/anaconda3/envs/sindy/lib/site-packages/pysindy/feature_library/polynomial_library.py?line=123'>124</a>\u001b[0m     check_is_fitted(\u001b[39mself\u001b[39;49m)\n\u001b[0;32m    <a href='file:///c%3A/Users/zacha/anaconda3/envs/sindy/lib/site-packages/pysindy/feature_library/polynomial_library.py?line=124'>125</a>\u001b[0m     \u001b[39mif\u001b[39;00m \u001b[39mfloat\u001b[39m(__version__[:\u001b[39m3\u001b[39m]) \u001b[39m>\u001b[39m\u001b[39m=\u001b[39m \u001b[39m1.0\u001b[39m:\n\u001b[0;32m    <a href='file:///c%3A/Users/zacha/anaconda3/envs/sindy/lib/site-packages/pysindy/feature_library/polynomial_library.py?line=125'>126</a>\u001b[0m         n_features \u001b[39m=\u001b[39m \u001b[39mself\u001b[39m\u001b[39m.\u001b[39mn_features_in_\n",
      "File \u001b[1;32m~\\anaconda3\\envs\\sindy\\lib\\site-packages\\sklearn\\utils\\validation.py:1222\u001b[0m, in \u001b[0;36mcheck_is_fitted\u001b[1;34m(estimator, attributes, msg, all_or_any)\u001b[0m\n\u001b[0;32m   <a href='file:///c%3A/Users/zacha/anaconda3/envs/sindy/lib/site-packages/sklearn/utils/validation.py?line=1216'>1217</a>\u001b[0m     fitted \u001b[39m=\u001b[39m [\n\u001b[0;32m   <a href='file:///c%3A/Users/zacha/anaconda3/envs/sindy/lib/site-packages/sklearn/utils/validation.py?line=1217'>1218</a>\u001b[0m         v \u001b[39mfor\u001b[39;00m v \u001b[39min\u001b[39;00m \u001b[39mvars\u001b[39m(estimator) \u001b[39mif\u001b[39;00m v\u001b[39m.\u001b[39mendswith(\u001b[39m\"\u001b[39m\u001b[39m_\u001b[39m\u001b[39m\"\u001b[39m) \u001b[39mand\u001b[39;00m \u001b[39mnot\u001b[39;00m v\u001b[39m.\u001b[39mstartswith(\u001b[39m\"\u001b[39m\u001b[39m__\u001b[39m\u001b[39m\"\u001b[39m)\n\u001b[0;32m   <a href='file:///c%3A/Users/zacha/anaconda3/envs/sindy/lib/site-packages/sklearn/utils/validation.py?line=1218'>1219</a>\u001b[0m     ]\n\u001b[0;32m   <a href='file:///c%3A/Users/zacha/anaconda3/envs/sindy/lib/site-packages/sklearn/utils/validation.py?line=1220'>1221</a>\u001b[0m \u001b[39mif\u001b[39;00m \u001b[39mnot\u001b[39;00m fitted:\n\u001b[1;32m-> <a href='file:///c%3A/Users/zacha/anaconda3/envs/sindy/lib/site-packages/sklearn/utils/validation.py?line=1221'>1222</a>\u001b[0m     \u001b[39mraise\u001b[39;00m NotFittedError(msg \u001b[39m%\u001b[39m {\u001b[39m\"\u001b[39m\u001b[39mname\u001b[39m\u001b[39m\"\u001b[39m: \u001b[39mtype\u001b[39m(estimator)\u001b[39m.\u001b[39m\u001b[39m__name__\u001b[39m})\n",
      "\u001b[1;31mNotFittedError\u001b[0m: This PolynomialLibrary instance is not fitted yet. Call 'fit' with appropriate arguments before using this estimator."
     ]
    }
   ],
   "source": [
    "# pde_lib.get_feature_names()"
   ]
  },
  {
   "cell_type": "code",
   "execution_count": null,
   "metadata": {},
   "outputs": [
    {
     "ename": "TypeError",
     "evalue": "Dimensions of C (4, 4) are incompatible with X (4) and/or Y (61); see help(pcolormesh)",
     "output_type": "error",
     "traceback": [
      "\u001b[1;31m---------------------------------------------------------------------------\u001b[0m",
      "\u001b[1;31mTypeError\u001b[0m                                 Traceback (most recent call last)",
      "\u001b[1;32mc:\\Users\\zacha\\OneDrive\\Documents\\Maths 776\\PySINDy\\2D_3.ipynb Cell 12'\u001b[0m in \u001b[0;36m<cell line: 3>\u001b[1;34m()\u001b[0m\n\u001b[0;32m      <a href='vscode-notebook-cell:/c%3A/Users/zacha/OneDrive/Documents/Maths%20776/PySINDy/2D_3.ipynb#ch0000011?line=0'>1</a>\u001b[0m u_reduced \u001b[39m=\u001b[39m np\u001b[39m.\u001b[39mreal(storage\u001b[39m.\u001b[39mdata)[\u001b[39m2\u001b[39m:\u001b[39m-\u001b[39m\u001b[39m2\u001b[39m, :]\n\u001b[1;32m----> <a href='vscode-notebook-cell:/c%3A/Users/zacha/OneDrive/Documents/Maths%20776/PySINDy/2D_3.ipynb#ch0000011?line=2'>3</a>\u001b[0m plot_solution(x, t[\u001b[39m2\u001b[39;49m:\u001b[39m-\u001b[39;49m\u001b[39m2\u001b[39;49m], u_reduced, \u001b[39m\"\u001b[39;49m\u001b[39mu\u001b[39;49m\u001b[39m\"\u001b[39;49m)\n",
      "\u001b[1;32mc:\\Users\\zacha\\OneDrive\\Documents\\Maths 776\\PySINDy\\2D_3.ipynb Cell 2'\u001b[0m in \u001b[0;36mplot_solution\u001b[1;34m(x, y, u, main_str, t)\u001b[0m\n\u001b[0;32m      <a href='vscode-notebook-cell:/c%3A/Users/zacha/OneDrive/Documents/Maths%20776/PySINDy/2D_3.ipynb#ch0000001?line=1'>2</a>\u001b[0m plt\u001b[39m.\u001b[39mfigure()\n\u001b[0;32m      <a href='vscode-notebook-cell:/c%3A/Users/zacha/OneDrive/Documents/Maths%20776/PySINDy/2D_3.ipynb#ch0000001?line=2'>3</a>\u001b[0m plot_u \u001b[39m=\u001b[39m np\u001b[39m.\u001b[39mtranspose(u, (\u001b[39m0\u001b[39m, \u001b[39m2\u001b[39m, \u001b[39m1\u001b[39m))\n\u001b[1;32m----> <a href='vscode-notebook-cell:/c%3A/Users/zacha/OneDrive/Documents/Maths%20776/PySINDy/2D_3.ipynb#ch0000001?line=3'>4</a>\u001b[0m plt\u001b[39m.\u001b[39;49mpcolormesh(x, y, plot_u[t], vmin\u001b[39m=\u001b[39;49m\u001b[39m-\u001b[39;49m\u001b[39m1\u001b[39;49m, vmax\u001b[39m=\u001b[39;49m\u001b[39m1\u001b[39;49m)\n\u001b[0;32m      <a href='vscode-notebook-cell:/c%3A/Users/zacha/OneDrive/Documents/Maths%20776/PySINDy/2D_3.ipynb#ch0000001?line=4'>5</a>\u001b[0m plt\u001b[39m.\u001b[39mxlabel(\u001b[39m'\u001b[39m\u001b[39mx\u001b[39m\u001b[39m'\u001b[39m, fontsize\u001b[39m=\u001b[39m\u001b[39m16\u001b[39m)\n\u001b[0;32m      <a href='vscode-notebook-cell:/c%3A/Users/zacha/OneDrive/Documents/Maths%20776/PySINDy/2D_3.ipynb#ch0000001?line=5'>6</a>\u001b[0m plt\u001b[39m.\u001b[39mylabel(\u001b[39m'\u001b[39m\u001b[39my\u001b[39m\u001b[39m'\u001b[39m, fontsize\u001b[39m=\u001b[39m\u001b[39m16\u001b[39m)\n",
      "File \u001b[1;32m~\\anaconda3\\envs\\sindy\\lib\\site-packages\\matplotlib\\pyplot.py:2718\u001b[0m, in \u001b[0;36mpcolormesh\u001b[1;34m(alpha, norm, cmap, vmin, vmax, shading, antialiased, data, *args, **kwargs)\u001b[0m\n\u001b[0;32m   <a href='file:///c%3A/Users/zacha/anaconda3/envs/sindy/lib/site-packages/matplotlib/pyplot.py?line=2712'>2713</a>\u001b[0m \u001b[39m@_copy_docstring_and_deprecators\u001b[39m(Axes\u001b[39m.\u001b[39mpcolormesh)\n\u001b[0;32m   <a href='file:///c%3A/Users/zacha/anaconda3/envs/sindy/lib/site-packages/matplotlib/pyplot.py?line=2713'>2714</a>\u001b[0m \u001b[39mdef\u001b[39;00m \u001b[39mpcolormesh\u001b[39m(\n\u001b[0;32m   <a href='file:///c%3A/Users/zacha/anaconda3/envs/sindy/lib/site-packages/matplotlib/pyplot.py?line=2714'>2715</a>\u001b[0m         \u001b[39m*\u001b[39margs, alpha\u001b[39m=\u001b[39m\u001b[39mNone\u001b[39;00m, norm\u001b[39m=\u001b[39m\u001b[39mNone\u001b[39;00m, cmap\u001b[39m=\u001b[39m\u001b[39mNone\u001b[39;00m, vmin\u001b[39m=\u001b[39m\u001b[39mNone\u001b[39;00m,\n\u001b[0;32m   <a href='file:///c%3A/Users/zacha/anaconda3/envs/sindy/lib/site-packages/matplotlib/pyplot.py?line=2715'>2716</a>\u001b[0m         vmax\u001b[39m=\u001b[39m\u001b[39mNone\u001b[39;00m, shading\u001b[39m=\u001b[39m\u001b[39mNone\u001b[39;00m, antialiased\u001b[39m=\u001b[39m\u001b[39mFalse\u001b[39;00m, data\u001b[39m=\u001b[39m\u001b[39mNone\u001b[39;00m,\n\u001b[0;32m   <a href='file:///c%3A/Users/zacha/anaconda3/envs/sindy/lib/site-packages/matplotlib/pyplot.py?line=2716'>2717</a>\u001b[0m         \u001b[39m*\u001b[39m\u001b[39m*\u001b[39mkwargs):\n\u001b[1;32m-> <a href='file:///c%3A/Users/zacha/anaconda3/envs/sindy/lib/site-packages/matplotlib/pyplot.py?line=2717'>2718</a>\u001b[0m     __ret \u001b[39m=\u001b[39m gca()\u001b[39m.\u001b[39mpcolormesh(\n\u001b[0;32m   <a href='file:///c%3A/Users/zacha/anaconda3/envs/sindy/lib/site-packages/matplotlib/pyplot.py?line=2718'>2719</a>\u001b[0m         \u001b[39m*\u001b[39margs, alpha\u001b[39m=\u001b[39malpha, norm\u001b[39m=\u001b[39mnorm, cmap\u001b[39m=\u001b[39mcmap, vmin\u001b[39m=\u001b[39mvmin,\n\u001b[0;32m   <a href='file:///c%3A/Users/zacha/anaconda3/envs/sindy/lib/site-packages/matplotlib/pyplot.py?line=2719'>2720</a>\u001b[0m         vmax\u001b[39m=\u001b[39mvmax, shading\u001b[39m=\u001b[39mshading, antialiased\u001b[39m=\u001b[39mantialiased,\n\u001b[0;32m   <a href='file:///c%3A/Users/zacha/anaconda3/envs/sindy/lib/site-packages/matplotlib/pyplot.py?line=2720'>2721</a>\u001b[0m         \u001b[39m*\u001b[39m\u001b[39m*\u001b[39m({\u001b[39m\"\u001b[39m\u001b[39mdata\u001b[39m\u001b[39m\"\u001b[39m: data} \u001b[39mif\u001b[39;00m data \u001b[39mis\u001b[39;00m \u001b[39mnot\u001b[39;00m \u001b[39mNone\u001b[39;00m \u001b[39melse\u001b[39;00m {}), \u001b[39m*\u001b[39m\u001b[39m*\u001b[39mkwargs)\n\u001b[0;32m   <a href='file:///c%3A/Users/zacha/anaconda3/envs/sindy/lib/site-packages/matplotlib/pyplot.py?line=2721'>2722</a>\u001b[0m     sci(__ret)\n\u001b[0;32m   <a href='file:///c%3A/Users/zacha/anaconda3/envs/sindy/lib/site-packages/matplotlib/pyplot.py?line=2722'>2723</a>\u001b[0m     \u001b[39mreturn\u001b[39;00m __ret\n",
      "File \u001b[1;32m~\\anaconda3\\envs\\sindy\\lib\\site-packages\\matplotlib\\__init__.py:1412\u001b[0m, in \u001b[0;36m_preprocess_data.<locals>.inner\u001b[1;34m(ax, data, *args, **kwargs)\u001b[0m\n\u001b[0;32m   <a href='file:///c%3A/Users/zacha/anaconda3/envs/sindy/lib/site-packages/matplotlib/__init__.py?line=1408'>1409</a>\u001b[0m \u001b[39m@functools\u001b[39m\u001b[39m.\u001b[39mwraps(func)\n\u001b[0;32m   <a href='file:///c%3A/Users/zacha/anaconda3/envs/sindy/lib/site-packages/matplotlib/__init__.py?line=1409'>1410</a>\u001b[0m \u001b[39mdef\u001b[39;00m \u001b[39minner\u001b[39m(ax, \u001b[39m*\u001b[39margs, data\u001b[39m=\u001b[39m\u001b[39mNone\u001b[39;00m, \u001b[39m*\u001b[39m\u001b[39m*\u001b[39mkwargs):\n\u001b[0;32m   <a href='file:///c%3A/Users/zacha/anaconda3/envs/sindy/lib/site-packages/matplotlib/__init__.py?line=1410'>1411</a>\u001b[0m     \u001b[39mif\u001b[39;00m data \u001b[39mis\u001b[39;00m \u001b[39mNone\u001b[39;00m:\n\u001b[1;32m-> <a href='file:///c%3A/Users/zacha/anaconda3/envs/sindy/lib/site-packages/matplotlib/__init__.py?line=1411'>1412</a>\u001b[0m         \u001b[39mreturn\u001b[39;00m func(ax, \u001b[39m*\u001b[39m\u001b[39mmap\u001b[39m(sanitize_sequence, args), \u001b[39m*\u001b[39m\u001b[39m*\u001b[39mkwargs)\n\u001b[0;32m   <a href='file:///c%3A/Users/zacha/anaconda3/envs/sindy/lib/site-packages/matplotlib/__init__.py?line=1413'>1414</a>\u001b[0m     bound \u001b[39m=\u001b[39m new_sig\u001b[39m.\u001b[39mbind(ax, \u001b[39m*\u001b[39margs, \u001b[39m*\u001b[39m\u001b[39m*\u001b[39mkwargs)\n\u001b[0;32m   <a href='file:///c%3A/Users/zacha/anaconda3/envs/sindy/lib/site-packages/matplotlib/__init__.py?line=1414'>1415</a>\u001b[0m     auto_label \u001b[39m=\u001b[39m (bound\u001b[39m.\u001b[39marguments\u001b[39m.\u001b[39mget(label_namer)\n\u001b[0;32m   <a href='file:///c%3A/Users/zacha/anaconda3/envs/sindy/lib/site-packages/matplotlib/__init__.py?line=1415'>1416</a>\u001b[0m                   \u001b[39mor\u001b[39;00m bound\u001b[39m.\u001b[39mkwargs\u001b[39m.\u001b[39mget(label_namer))\n",
      "File \u001b[1;32m~\\anaconda3\\envs\\sindy\\lib\\site-packages\\matplotlib\\axes\\_axes.py:6062\u001b[0m, in \u001b[0;36mAxes.pcolormesh\u001b[1;34m(self, alpha, norm, cmap, vmin, vmax, shading, antialiased, *args, **kwargs)\u001b[0m\n\u001b[0;32m   <a href='file:///c%3A/Users/zacha/anaconda3/envs/sindy/lib/site-packages/matplotlib/axes/_axes.py?line=6058'>6059</a>\u001b[0m shading \u001b[39m=\u001b[39m shading\u001b[39m.\u001b[39mlower()\n\u001b[0;32m   <a href='file:///c%3A/Users/zacha/anaconda3/envs/sindy/lib/site-packages/matplotlib/axes/_axes.py?line=6059'>6060</a>\u001b[0m kwargs\u001b[39m.\u001b[39msetdefault(\u001b[39m'\u001b[39m\u001b[39medgecolors\u001b[39m\u001b[39m'\u001b[39m, \u001b[39m'\u001b[39m\u001b[39mnone\u001b[39m\u001b[39m'\u001b[39m)\n\u001b[1;32m-> <a href='file:///c%3A/Users/zacha/anaconda3/envs/sindy/lib/site-packages/matplotlib/axes/_axes.py?line=6061'>6062</a>\u001b[0m X, Y, C, shading \u001b[39m=\u001b[39m \u001b[39mself\u001b[39;49m\u001b[39m.\u001b[39;49m_pcolorargs(\u001b[39m'\u001b[39;49m\u001b[39mpcolormesh\u001b[39;49m\u001b[39m'\u001b[39;49m, \u001b[39m*\u001b[39;49margs,\n\u001b[0;32m   <a href='file:///c%3A/Users/zacha/anaconda3/envs/sindy/lib/site-packages/matplotlib/axes/_axes.py?line=6062'>6063</a>\u001b[0m                                     shading\u001b[39m=\u001b[39;49mshading, kwargs\u001b[39m=\u001b[39;49mkwargs)\n\u001b[0;32m   <a href='file:///c%3A/Users/zacha/anaconda3/envs/sindy/lib/site-packages/matplotlib/axes/_axes.py?line=6063'>6064</a>\u001b[0m coords \u001b[39m=\u001b[39m np\u001b[39m.\u001b[39mstack([X, Y], axis\u001b[39m=\u001b[39m\u001b[39m-\u001b[39m\u001b[39m1\u001b[39m)\n\u001b[0;32m   <a href='file:///c%3A/Users/zacha/anaconda3/envs/sindy/lib/site-packages/matplotlib/axes/_axes.py?line=6064'>6065</a>\u001b[0m \u001b[39m# convert to one dimensional array\u001b[39;00m\n",
      "File \u001b[1;32m~\\anaconda3\\envs\\sindy\\lib\\site-packages\\matplotlib\\axes\\_axes.py:5575\u001b[0m, in \u001b[0;36mAxes._pcolorargs\u001b[1;34m(self, funcname, shading, *args, **kwargs)\u001b[0m\n\u001b[0;32m   <a href='file:///c%3A/Users/zacha/anaconda3/envs/sindy/lib/site-packages/matplotlib/axes/_axes.py?line=5572'>5573</a>\u001b[0m \u001b[39mif\u001b[39;00m shading \u001b[39m==\u001b[39m \u001b[39m'\u001b[39m\u001b[39mflat\u001b[39m\u001b[39m'\u001b[39m:\n\u001b[0;32m   <a href='file:///c%3A/Users/zacha/anaconda3/envs/sindy/lib/site-packages/matplotlib/axes/_axes.py?line=5573'>5574</a>\u001b[0m     \u001b[39mif\u001b[39;00m (Nx, Ny) \u001b[39m!=\u001b[39m (ncols \u001b[39m+\u001b[39m \u001b[39m1\u001b[39m, nrows \u001b[39m+\u001b[39m \u001b[39m1\u001b[39m):\n\u001b[1;32m-> <a href='file:///c%3A/Users/zacha/anaconda3/envs/sindy/lib/site-packages/matplotlib/axes/_axes.py?line=5574'>5575</a>\u001b[0m         \u001b[39mraise\u001b[39;00m \u001b[39mTypeError\u001b[39;00m(\u001b[39m'\u001b[39m\u001b[39mDimensions of C \u001b[39m\u001b[39m%s\u001b[39;00m\u001b[39m are incompatible with\u001b[39m\u001b[39m'\u001b[39m\n\u001b[0;32m   <a href='file:///c%3A/Users/zacha/anaconda3/envs/sindy/lib/site-packages/matplotlib/axes/_axes.py?line=5575'>5576</a>\u001b[0m                         \u001b[39m'\u001b[39m\u001b[39m X (\u001b[39m\u001b[39m%d\u001b[39;00m\u001b[39m) and/or Y (\u001b[39m\u001b[39m%d\u001b[39;00m\u001b[39m); see help(\u001b[39m\u001b[39m%s\u001b[39;00m\u001b[39m)\u001b[39m\u001b[39m'\u001b[39m \u001b[39m%\u001b[39m (\n\u001b[0;32m   <a href='file:///c%3A/Users/zacha/anaconda3/envs/sindy/lib/site-packages/matplotlib/axes/_axes.py?line=5576'>5577</a>\u001b[0m                             C\u001b[39m.\u001b[39mshape, Nx, Ny, funcname))\n\u001b[0;32m   <a href='file:///c%3A/Users/zacha/anaconda3/envs/sindy/lib/site-packages/matplotlib/axes/_axes.py?line=5577'>5578</a>\u001b[0m \u001b[39melse\u001b[39;00m:    \u001b[39m# ['nearest', 'gouraud']:\u001b[39;00m\n\u001b[0;32m   <a href='file:///c%3A/Users/zacha/anaconda3/envs/sindy/lib/site-packages/matplotlib/axes/_axes.py?line=5578'>5579</a>\u001b[0m     \u001b[39mif\u001b[39;00m (Nx, Ny) \u001b[39m!=\u001b[39m (ncols, nrows):\n",
      "\u001b[1;31mTypeError\u001b[0m: Dimensions of C (4, 4) are incompatible with X (4) and/or Y (61); see help(pcolormesh)"
     ]
    },
    {
     "data": {
      "image/png": "[encoded data removed]",
      "text/plain": [
       "<Figure size 432x288 with 1 Axes>"
      ]
     },
     "metadata": {
      "needs_background": "light"
     },
     "output_type": "display_data"
    }
   ],
   "source": [
    "u_reduced = np.real(storage.data)[2:-2, :]\n",
    "\n",
    "plot_solution(x, t[2:-2], u_reduced, \"u\")"
   ]
  },
  {
   "cell_type": "code",
   "execution_count": null,
   "metadata": {},
   "outputs": [
    {
     "name": "stdout",
     "output_type": "stream",
     "text": [
      "(x0)' = -0.333 x0 + -0.667 x0_1\n"
     ]
    }
   ],
   "source": [
    "u_r = u_reduced.reshape(len(x), len(t)-4, 1)\n",
    "model2 = ps.SINDy(feature_library=pde_lib, optimizer=optimizer)\n",
    "model2.fit(u_r, t=dt)\n",
    "model2.print()"
   ]
  },
  {
   "cell_type": "code",
   "execution_count": null,
   "metadata": {},
   "outputs": [],
   "source": []
  }
 ],
 "metadata": {
  "kernelspec": {
   "display_name": "Python 3 (ipykernel)",
   "language": "python",
   "name": "python3"
  },
  "language_info": {
   "codemirror_mode": {
    "name": "ipython",
    "version": 3
   },
   "file_extension": ".py",
   "mimetype": "text/x-python",
   "name": "python",
   "nbconvert_exporter": "python",
   "pygments_lexer": "ipython3",
   "version": "3.9.7"
  },
  "toc": {
   "base_numbering": 1,
   "nav_menu": {},
   "number_sections": true,
   "sideBar": true,
   "skip_h1_title": false,
   "title_cell": "Table of Contents",
   "title_sidebar": "Contents",
   "toc_cell": false,
   "toc_position": {
    "height": "calc(100% - 180px)",
    "left": "10px",
    "top": "150px",
    "width": "296.475px"
   },
   "toc_section_display": true,
   "toc_window_display": true
  },
  "varInspector": {
   "cols": {
    "lenName": 16,
    "lenType": 16,
    "lenVar": 40
   },
   "kernels_config": {
    "python": {
     "delete_cmd_postfix": "",
     "delete_cmd_prefix": "del ",
     "library": "var_list.py",
     "varRefreshCmd": "print(var_dic_list())"
    },
    "r": {
     "delete_cmd_postfix": ") ",
     "delete_cmd_prefix": "rm(",
     "library": "var_list.r",
     "varRefreshCmd": "cat(var_dic_list()) "
    }
   },
   "types_to_exclude": [
    "module",
    "function",
    "builtin_function_or_method",
    "instance",
    "_Feature"
   ],
   "window_display": false
  }
 },
 "nbformat": 4,
 "nbformat_minor": 2
}
